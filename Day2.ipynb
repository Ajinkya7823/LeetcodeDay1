{
 "cells": [
  {
   "cell_type": "markdown",
   "metadata": {},
   "source": [
    "# Leetcode 100 Days Challange :-"
   ]
  },
  {
   "cell_type": "markdown",
   "metadata": {},
   "source": [
    "# Day 2  (runtime error)"
   ]
  },
  {
   "cell_type": "markdown",
   "metadata": {},
   "source": [
    "* 2109. Adding Spaces to a String\n",
    "\n",
    "\n"
   ]
  },
  {
   "cell_type": "markdown",
   "metadata": {},
   "source": [
    "For example, given s = \"EnjoyYourCoffee\" and spaces = [5, 9], we place spaces before 'Y' and 'C', which are at indices 5 and 9 respectively. Thus, we obtain \"Enjoy Your Coffee\".\n",
    "Return the modified string after the spaces have been added."
   ]
  },
  {
   "cell_type": "markdown",
   "metadata": {},
   "source": [
    "Ex.1."
   ]
  },
  {
   "cell_type": "code",
   "execution_count": 26,
   "metadata": {},
   "outputs": [
    {
     "name": "stdout",
     "output_type": "stream",
     "text": [
      "Leetcode Helps  Me Learn\n"
     ]
    }
   ],
   "source": [
    "class Solution(object):\n",
    "    def addSpaces(self, s, spaces):\n",
    "        for index in spaces:\n",
    "            s = s[:index] + ' ' + s[index:]\n",
    "        return s\n",
    "s = \"LeetcodeHelpsMeLearn\"\n",
    "spaces = [8, 14, 15, 18]\n",
    "sol = Solution()\n",
    "print(sol.addSpaces(s, spaces)) \n"
   ]
  },
  {
   "cell_type": "markdown",
   "metadata": {},
   "source": [
    "Ex.2."
   ]
  },
  {
   "cell_type": "code",
   "execution_count": 27,
   "metadata": {},
   "outputs": [
    {
     "name": "stdout",
     "output_type": "stream",
     "text": [
      "i code in python\n"
     ]
    }
   ],
   "source": [
    "class Solution(object):\n",
    "    def addSpaces(self, s, spaces):\n",
    "        for index in spaces:\n",
    "            s = s[:index] + ' ' + s[index:]\n",
    "        return s\n",
    "s = \"icodeinpython\"\n",
    "spaces = [1,6,9]\n",
    "sol = Solution()\n",
    "print(sol.addSpaces(s, spaces)) \n"
   ]
  },
  {
   "cell_type": "markdown",
   "metadata": {},
   "source": [
    "Ex.3."
   ]
  },
  {
   "cell_type": "code",
   "execution_count": 28,
   "metadata": {},
   "outputs": [
    {
     "name": "stdout",
     "output_type": "stream",
     "text": [
      " s p a c i n g\n"
     ]
    }
   ],
   "source": [
    "class Solution(object):\n",
    "    def addSpaces(self, s, spaces):\n",
    "        for index in spaces:\n",
    "            s = s[:index] + ' ' + s[index:]\n",
    "        return s\n",
    "s = \"spacing\"\n",
    "spaces = [0,2,4,6,8,10,12]\n",
    "sol = Solution()\n",
    "print(sol.addSpaces(s, spaces)) \n"
   ]
  },
  {
   "cell_type": "markdown",
   "metadata": {},
   "source": [
    "# Day-2"
   ]
  },
  {
   "cell_type": "markdown",
   "metadata": {},
   "source": [
    "* 2140. Solving Questions With Brainpower"
   ]
  },
  {
   "cell_type": "markdown",
   "metadata": {},
   "source": [
    "You are given a 0-indexed 2D integer array questions where questions[i] = [pointsi, brainpoweri].\n",
    "\n",
    "The array describes the questions of an exam, where you have to process the questions in order (i.e., starting from question 0) and make a decision whether to solve or skip each question. Solving question i will earn you pointsi points but you will be unable to solve each of the next brainpoweri questions. If you s"
   ]
  },
  {
   "cell_type": "markdown",
   "metadata": {},
   "source": [
    "Example :"
   ]
  },
  {
   "cell_type": "code",
   "execution_count": 29,
   "metadata": {},
   "outputs": [],
   "source": [
    "class Solution(object):\n",
    "    def mostPoints(self, questions):\n",
    "        \"\"\"\n",
    "        :type questions: List[List[int]]\n",
    "        :rtype: int\n",
    "        \"\"\"\n",
    "    \n",
    "        n = len(questions)\n",
    "        dp = [0] * (n + 1)  \n",
    "        \n",
    "        for i in range(n - 1, -1, -1):\n",
    "            points, brainpower = questions[i]\n",
    "            \n",
    "            dp[i] = max(dp[i + 1], points + (dp[i + brainpower + 1] if i + brainpower + 1 < n else 0))\n",
    "        \n",
    "        return dp[0]"
   ]
  },
  {
   "cell_type": "markdown",
   "metadata": {},
   "source": [
    "# day-2  (for practice)"
   ]
  },
  {
   "cell_type": "markdown",
   "metadata": {},
   "source": [
    "* 4. Given two sorted arrays nums1 and nums2 of size m and n respectively, return the median of the two sorted arrays.\n",
    "\n",
    "The overall run time complexity should be O(log (m+n))."
   ]
  },
  {
   "cell_type": "code",
   "execution_count": null,
   "metadata": {},
   "outputs": [],
   "source": [
    "class Solution(object):\n",
    "    def findMedianSortedArrays(self, nums1, nums2):\n",
    "        \"\"\"\n",
    "        :type nums1: List[int]\n",
    "        :type nums2: List[int]\n",
    "        :rtype: float\n",
    "        \"\"\"\n",
    "        merged = nums1 + nums2  \n",
    "        merged.sort()  \n",
    "        n = len(merged)\n",
    "        mid = n // 2  \n",
    "        if n % 2 == 0:\n",
    "            return (merged[mid - 1] + merged[mid]) / 2.0  \n",
    "        else:  \n",
    "            return merged[mid]  "
   ]
  },
  {
   "cell_type": "markdown",
   "metadata": {},
   "source": []
  }
 ],
 "metadata": {
  "kernelspec": {
   "display_name": "Python 3",
   "language": "python",
   "name": "python3"
  },
  "language_info": {
   "codemirror_mode": {
    "name": "ipython",
    "version": 3
   },
   "file_extension": ".py",
   "mimetype": "text/x-python",
   "name": "python",
   "nbconvert_exporter": "python",
   "pygments_lexer": "ipython3",
   "version": "3.13.1"
  }
 },
 "nbformat": 4,
 "nbformat_minor": 2
}
